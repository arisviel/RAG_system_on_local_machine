{
 "cells": [
  {
   "cell_type": "code",
   "execution_count": 2,
   "metadata": {},
   "outputs": [
    {
     "name": "stderr",
     "output_type": "stream",
     "text": [
      "/home/biomega/.cache/pypoetry/virtualenvs/rag-system-on-local-machine-J86ac31T-py3.12/lib/python3.12/site-packages/sentence_transformers/cross_encoder/CrossEncoder.py:11: TqdmExperimentalWarning: Using `tqdm.autonotebook.tqdm` in notebook mode. Use `tqdm.tqdm` instead to force console mode (e.g. in jupyter console)\n",
      "  from tqdm.autonotebook import tqdm, trange\n"
     ]
    }
   ],
   "source": [
    "import numpy as np\n",
    "import pickle\n",
    "from sentence_transformers import SentenceTransformer\n",
    "from transformers import AutoTokenizer\n",
    "from docx import Document"
   ]
  },
  {
   "cell_type": "code",
   "execution_count": 5,
   "metadata": {},
   "outputs": [
    {
     "name": "stdout",
     "output_type": "stream",
     "text": [
      "Тепловой баланс плазменной печи.\n"
     ]
    }
   ],
   "source": [
    "doc = Document('./data/diplom.docx')\n",
    "fullText = []\n",
    "for para in doc.paragraphs:\n",
    "    if len(para.text)>0:\n",
    "        fullText.append(para.text)\n",
    "print(fullText[232])"
   ]
  },
  {
   "cell_type": "code",
   "execution_count": 6,
   "metadata": {},
   "outputs": [],
   "source": [
    "# Для плучения эмбедингов используется модель multilingual-e5-small\n",
    "# Длина контекстного окна у модели 512 токенов, это нужно учесть\n",
    "model = SentenceTransformer('intfloat/multilingual-e5-small')\n",
    "tokenizer = AutoTokenizer.from_pretrained('intfloat/multilingual-e5-small')"
   ]
  },
  {
   "cell_type": "code",
   "execution_count": 12,
   "metadata": {},
   "outputs": [
    {
     "name": "stdout",
     "output_type": "stream",
     "text": [
      "Итого исходный текст разбился на 52 кусков, где каждый не более 512 токенов\n"
     ]
    }
   ],
   "source": [
    "corpus = {}\n",
    "inter = 0\n",
    "chunk = ''\n",
    "for para in fullText:\n",
    "    if len(tokenizer.tokenize(para))>512:\n",
    "        print('Fail')\n",
    "        break\n",
    "    elif (len(tokenizer.tokenize(chunk))+len(tokenizer.tokenize(para)))<=512:\n",
    "        chunk = chunk + ' ' + para\n",
    "        continue\n",
    "    elif (len(chunk)+len(para))>512:\n",
    "        corpus[inter]=chunk\n",
    "        inter+=1\n",
    "        chunk = para\n",
    "print(f'Итого исходный текст разбился на {len(corpus.keys())} кусков, где каждый не более 512 токенов')        "
   ]
  },
  {
   "cell_type": "code",
   "execution_count": 13,
   "metadata": {},
   "outputs": [],
   "source": [
    "embeds = {}\n",
    "for key in corpus.keys():\n",
    "    embeds[key] = model.encode(corpus[key])"
   ]
  },
  {
   "cell_type": "code",
   "execution_count": 14,
   "metadata": {},
   "outputs": [],
   "source": [
    "with open('./data/corpus.pickle', 'wb') as handle:\n",
    "    pickle.dump(corpus, handle, protocol=pickle.HIGHEST_PROTOCOL)\n",
    "with open('./data/embeds.pickle', 'wb') as handle:\n",
    "    pickle.dump(embeds, handle, protocol=pickle.HIGHEST_PROTOCOL)"
   ]
  }
 ],
 "metadata": {
  "kernelspec": {
   "display_name": "Python 3 (ipykernel)",
   "language": "python",
   "name": "python3"
  },
  "language_info": {
   "codemirror_mode": {
    "name": "ipython",
    "version": 3
   },
   "file_extension": ".py",
   "mimetype": "text/x-python",
   "name": "python",
   "nbconvert_exporter": "python",
   "pygments_lexer": "ipython3",
   "version": "3.12.3"
  }
 },
 "nbformat": 4,
 "nbformat_minor": 2
}
